{
  "nbformat": 4,
  "nbformat_minor": 0,
  "metadata": {
    "colab": {
      "provenance": [],
      "authorship_tag": "ABX9TyNV+mxiQV3hn/4G8PvRWP0X",
      "include_colab_link": true
    },
    "kernelspec": {
      "name": "python3",
      "display_name": "Python 3"
    },
    "language_info": {
      "name": "python"
    }
  },
  "cells": [
    {
      "cell_type": "markdown",
      "metadata": {
        "id": "view-in-github",
        "colab_type": "text"
      },
      "source": [
        "<a href=\"https://colab.research.google.com/github/Samxiar/analylitia/blob/main/Data_Cleaning.ipynb\" target=\"_parent\"><img src=\"https://colab.research.google.com/assets/colab-badge.svg\" alt=\"Open In Colab\"/></a>"
      ]
    },
    {
      "cell_type": "markdown",
      "source": [
        "**Note That This is a Generalized form of Data Cleaning and the Process or the methods may vary from data to data.**"
      ],
      "metadata": {
        "id": "cl5oRBjTF5Vu"
      }
    },
    {
      "cell_type": "code",
      "execution_count": 1,
      "metadata": {
        "id": "BPYKIHWSF105"
      },
      "outputs": [],
      "source": [
        "import pandas as pd\n",
        "import numpy as np"
      ]
    },
    {
      "cell_type": "code",
      "source": [
        "df =  pd.read_csv(\"/content/global life expectancy dataset.csv\")"
      ],
      "metadata": {
        "id": "99vd8og3Gep8"
      },
      "execution_count": 2,
      "outputs": []
    },
    {
      "cell_type": "code",
      "source": [
        "df.head(5)\n"
      ],
      "metadata": {
        "colab": {
          "base_uri": "https://localhost:8080/",
          "height": 314
        },
        "id": "KGTDGCWfGpbj",
        "outputId": "2b9d04be-d881-43ac-9099-d91c9f3db124"
      },
      "execution_count": 3,
      "outputs": [
        {
          "output_type": "execute_result",
          "data": {
            "text/plain": [
              "           Country Name Country Code    1960    1961    1962    1963    1964  \\\n",
              "0                 Aruba          ABW  65.662  66.074  66.444  66.787  67.113   \n",
              "1           Afghanistan          AFG  32.446  32.962  33.471  33.971  34.463   \n",
              "2                Angola          AGO  37.524  37.811  38.113  38.430  38.760   \n",
              "3               Albania          ALB  62.283  63.301  64.190  64.914  65.463   \n",
              "4  United Arab Emirates          ARE  51.537  52.560  53.573  54.572  55.555   \n",
              "\n",
              "     1965    1966    1967  ...    2011    2012    2013    2014    2015  \\\n",
              "0  67.435  67.762  68.095  ...  75.158  75.299  75.441  75.583  75.725   \n",
              "1  34.948  35.430  35.914  ...  61.553  62.054  62.525  62.966  63.377   \n",
              "2  39.102  39.454  39.813  ...  56.330  57.236  58.054  58.776  59.398   \n",
              "3  65.850  66.110  66.304  ...  76.914  77.252  77.554  77.813  78.025   \n",
              "4  56.523  57.482  58.432  ...  76.521  76.711  76.903  77.095  77.285   \n",
              "\n",
              "     2016    2017    2018    2019    2020  \n",
              "0  75.868  76.010  76.152  76.293  76.434  \n",
              "1  63.763  64.130  64.486  64.833  65.173  \n",
              "2  59.925  60.379  60.782  61.147  61.487  \n",
              "3  78.194  78.333  78.458  78.573  78.686  \n",
              "4  77.470  77.647  77.814  77.972  78.120  \n",
              "\n",
              "[5 rows x 63 columns]"
            ],
            "text/html": [
              "\n",
              "  <div id=\"df-f33830dd-11a2-498a-8224-5d8fb11098f2\">\n",
              "    <div class=\"colab-df-container\">\n",
              "      <div>\n",
              "<style scoped>\n",
              "    .dataframe tbody tr th:only-of-type {\n",
              "        vertical-align: middle;\n",
              "    }\n",
              "\n",
              "    .dataframe tbody tr th {\n",
              "        vertical-align: top;\n",
              "    }\n",
              "\n",
              "    .dataframe thead th {\n",
              "        text-align: right;\n",
              "    }\n",
              "</style>\n",
              "<table border=\"1\" class=\"dataframe\">\n",
              "  <thead>\n",
              "    <tr style=\"text-align: right;\">\n",
              "      <th></th>\n",
              "      <th>Country Name</th>\n",
              "      <th>Country Code</th>\n",
              "      <th>1960</th>\n",
              "      <th>1961</th>\n",
              "      <th>1962</th>\n",
              "      <th>1963</th>\n",
              "      <th>1964</th>\n",
              "      <th>1965</th>\n",
              "      <th>1966</th>\n",
              "      <th>1967</th>\n",
              "      <th>...</th>\n",
              "      <th>2011</th>\n",
              "      <th>2012</th>\n",
              "      <th>2013</th>\n",
              "      <th>2014</th>\n",
              "      <th>2015</th>\n",
              "      <th>2016</th>\n",
              "      <th>2017</th>\n",
              "      <th>2018</th>\n",
              "      <th>2019</th>\n",
              "      <th>2020</th>\n",
              "    </tr>\n",
              "  </thead>\n",
              "  <tbody>\n",
              "    <tr>\n",
              "      <th>0</th>\n",
              "      <td>Aruba</td>\n",
              "      <td>ABW</td>\n",
              "      <td>65.662</td>\n",
              "      <td>66.074</td>\n",
              "      <td>66.444</td>\n",
              "      <td>66.787</td>\n",
              "      <td>67.113</td>\n",
              "      <td>67.435</td>\n",
              "      <td>67.762</td>\n",
              "      <td>68.095</td>\n",
              "      <td>...</td>\n",
              "      <td>75.158</td>\n",
              "      <td>75.299</td>\n",
              "      <td>75.441</td>\n",
              "      <td>75.583</td>\n",
              "      <td>75.725</td>\n",
              "      <td>75.868</td>\n",
              "      <td>76.010</td>\n",
              "      <td>76.152</td>\n",
              "      <td>76.293</td>\n",
              "      <td>76.434</td>\n",
              "    </tr>\n",
              "    <tr>\n",
              "      <th>1</th>\n",
              "      <td>Afghanistan</td>\n",
              "      <td>AFG</td>\n",
              "      <td>32.446</td>\n",
              "      <td>32.962</td>\n",
              "      <td>33.471</td>\n",
              "      <td>33.971</td>\n",
              "      <td>34.463</td>\n",
              "      <td>34.948</td>\n",
              "      <td>35.430</td>\n",
              "      <td>35.914</td>\n",
              "      <td>...</td>\n",
              "      <td>61.553</td>\n",
              "      <td>62.054</td>\n",
              "      <td>62.525</td>\n",
              "      <td>62.966</td>\n",
              "      <td>63.377</td>\n",
              "      <td>63.763</td>\n",
              "      <td>64.130</td>\n",
              "      <td>64.486</td>\n",
              "      <td>64.833</td>\n",
              "      <td>65.173</td>\n",
              "    </tr>\n",
              "    <tr>\n",
              "      <th>2</th>\n",
              "      <td>Angola</td>\n",
              "      <td>AGO</td>\n",
              "      <td>37.524</td>\n",
              "      <td>37.811</td>\n",
              "      <td>38.113</td>\n",
              "      <td>38.430</td>\n",
              "      <td>38.760</td>\n",
              "      <td>39.102</td>\n",
              "      <td>39.454</td>\n",
              "      <td>39.813</td>\n",
              "      <td>...</td>\n",
              "      <td>56.330</td>\n",
              "      <td>57.236</td>\n",
              "      <td>58.054</td>\n",
              "      <td>58.776</td>\n",
              "      <td>59.398</td>\n",
              "      <td>59.925</td>\n",
              "      <td>60.379</td>\n",
              "      <td>60.782</td>\n",
              "      <td>61.147</td>\n",
              "      <td>61.487</td>\n",
              "    </tr>\n",
              "    <tr>\n",
              "      <th>3</th>\n",
              "      <td>Albania</td>\n",
              "      <td>ALB</td>\n",
              "      <td>62.283</td>\n",
              "      <td>63.301</td>\n",
              "      <td>64.190</td>\n",
              "      <td>64.914</td>\n",
              "      <td>65.463</td>\n",
              "      <td>65.850</td>\n",
              "      <td>66.110</td>\n",
              "      <td>66.304</td>\n",
              "      <td>...</td>\n",
              "      <td>76.914</td>\n",
              "      <td>77.252</td>\n",
              "      <td>77.554</td>\n",
              "      <td>77.813</td>\n",
              "      <td>78.025</td>\n",
              "      <td>78.194</td>\n",
              "      <td>78.333</td>\n",
              "      <td>78.458</td>\n",
              "      <td>78.573</td>\n",
              "      <td>78.686</td>\n",
              "    </tr>\n",
              "    <tr>\n",
              "      <th>4</th>\n",
              "      <td>United Arab Emirates</td>\n",
              "      <td>ARE</td>\n",
              "      <td>51.537</td>\n",
              "      <td>52.560</td>\n",
              "      <td>53.573</td>\n",
              "      <td>54.572</td>\n",
              "      <td>55.555</td>\n",
              "      <td>56.523</td>\n",
              "      <td>57.482</td>\n",
              "      <td>58.432</td>\n",
              "      <td>...</td>\n",
              "      <td>76.521</td>\n",
              "      <td>76.711</td>\n",
              "      <td>76.903</td>\n",
              "      <td>77.095</td>\n",
              "      <td>77.285</td>\n",
              "      <td>77.470</td>\n",
              "      <td>77.647</td>\n",
              "      <td>77.814</td>\n",
              "      <td>77.972</td>\n",
              "      <td>78.120</td>\n",
              "    </tr>\n",
              "  </tbody>\n",
              "</table>\n",
              "<p>5 rows × 63 columns</p>\n",
              "</div>\n",
              "      <button class=\"colab-df-convert\" onclick=\"convertToInteractive('df-f33830dd-11a2-498a-8224-5d8fb11098f2')\"\n",
              "              title=\"Convert this dataframe to an interactive table.\"\n",
              "              style=\"display:none;\">\n",
              "        \n",
              "  <svg xmlns=\"http://www.w3.org/2000/svg\" height=\"24px\"viewBox=\"0 0 24 24\"\n",
              "       width=\"24px\">\n",
              "    <path d=\"M0 0h24v24H0V0z\" fill=\"none\"/>\n",
              "    <path d=\"M18.56 5.44l.94 2.06.94-2.06 2.06-.94-2.06-.94-.94-2.06-.94 2.06-2.06.94zm-11 1L8.5 8.5l.94-2.06 2.06-.94-2.06-.94L8.5 2.5l-.94 2.06-2.06.94zm10 10l.94 2.06.94-2.06 2.06-.94-2.06-.94-.94-2.06-.94 2.06-2.06.94z\"/><path d=\"M17.41 7.96l-1.37-1.37c-.4-.4-.92-.59-1.43-.59-.52 0-1.04.2-1.43.59L10.3 9.45l-7.72 7.72c-.78.78-.78 2.05 0 2.83L4 21.41c.39.39.9.59 1.41.59.51 0 1.02-.2 1.41-.59l7.78-7.78 2.81-2.81c.8-.78.8-2.07 0-2.86zM5.41 20L4 18.59l7.72-7.72 1.47 1.35L5.41 20z\"/>\n",
              "  </svg>\n",
              "      </button>\n",
              "      \n",
              "  <style>\n",
              "    .colab-df-container {\n",
              "      display:flex;\n",
              "      flex-wrap:wrap;\n",
              "      gap: 12px;\n",
              "    }\n",
              "\n",
              "    .colab-df-convert {\n",
              "      background-color: #E8F0FE;\n",
              "      border: none;\n",
              "      border-radius: 50%;\n",
              "      cursor: pointer;\n",
              "      display: none;\n",
              "      fill: #1967D2;\n",
              "      height: 32px;\n",
              "      padding: 0 0 0 0;\n",
              "      width: 32px;\n",
              "    }\n",
              "\n",
              "    .colab-df-convert:hover {\n",
              "      background-color: #E2EBFA;\n",
              "      box-shadow: 0px 1px 2px rgba(60, 64, 67, 0.3), 0px 1px 3px 1px rgba(60, 64, 67, 0.15);\n",
              "      fill: #174EA6;\n",
              "    }\n",
              "\n",
              "    [theme=dark] .colab-df-convert {\n",
              "      background-color: #3B4455;\n",
              "      fill: #D2E3FC;\n",
              "    }\n",
              "\n",
              "    [theme=dark] .colab-df-convert:hover {\n",
              "      background-color: #434B5C;\n",
              "      box-shadow: 0px 1px 3px 1px rgba(0, 0, 0, 0.15);\n",
              "      filter: drop-shadow(0px 1px 2px rgba(0, 0, 0, 0.3));\n",
              "      fill: #FFFFFF;\n",
              "    }\n",
              "  </style>\n",
              "\n",
              "      <script>\n",
              "        const buttonEl =\n",
              "          document.querySelector('#df-f33830dd-11a2-498a-8224-5d8fb11098f2 button.colab-df-convert');\n",
              "        buttonEl.style.display =\n",
              "          google.colab.kernel.accessAllowed ? 'block' : 'none';\n",
              "\n",
              "        async function convertToInteractive(key) {\n",
              "          const element = document.querySelector('#df-f33830dd-11a2-498a-8224-5d8fb11098f2');\n",
              "          const dataTable =\n",
              "            await google.colab.kernel.invokeFunction('convertToInteractive',\n",
              "                                                     [key], {});\n",
              "          if (!dataTable) return;\n",
              "\n",
              "          const docLinkHtml = 'Like what you see? Visit the ' +\n",
              "            '<a target=\"_blank\" href=https://colab.research.google.com/notebooks/data_table.ipynb>data table notebook</a>'\n",
              "            + ' to learn more about interactive tables.';\n",
              "          element.innerHTML = '';\n",
              "          dataTable['output_type'] = 'display_data';\n",
              "          await google.colab.output.renderOutput(dataTable, element);\n",
              "          const docLink = document.createElement('div');\n",
              "          docLink.innerHTML = docLinkHtml;\n",
              "          element.appendChild(docLink);\n",
              "        }\n",
              "      </script>\n",
              "    </div>\n",
              "  </div>\n",
              "  "
            ]
          },
          "metadata": {},
          "execution_count": 3
        }
      ]
    },
    {
      "cell_type": "code",
      "source": [
        "df.drop_duplicates(inplace=True)"
      ],
      "metadata": {
        "id": "o1hIjrfjGr3q"
      },
      "execution_count": 4,
      "outputs": []
    },
    {
      "cell_type": "code",
      "source": [
        "if df.isnull().values.any():\n",
        "    print(\"DataFrame has null values\")\n",
        "else:\n",
        "    print(\"DataFrame has no null values\")"
      ],
      "metadata": {
        "colab": {
          "base_uri": "https://localhost:8080/"
        },
        "id": "Ds-QczjYG5Cq",
        "outputId": "d73d5733-0fd9-4b4d-dd11-de9edf2d8bc9"
      },
      "execution_count": 5,
      "outputs": [
        {
          "output_type": "stream",
          "name": "stdout",
          "text": [
            "DataFrame has null values\n"
          ]
        }
      ]
    },
    {
      "cell_type": "code",
      "source": [
        "n_cols = df.select_dtypes(include='number').columns\n",
        "df[n_cols] = df[n_cols].fillna(df[n_cols].median())"
      ],
      "metadata": {
        "id": "1qCCvn4jHZjj"
      },
      "execution_count": 6,
      "outputs": []
    },
    {
      "cell_type": "code",
      "source": [
        "if df.isnull().values.any():\n",
        "    print(\"DataFrame has null values\")\n",
        "else:\n",
        "    print(\"DataFrame has no null values\")"
      ],
      "metadata": {
        "colab": {
          "base_uri": "https://localhost:8080/"
        },
        "id": "G_1d_EXaH8kL",
        "outputId": "22f83e12-dc28-46cf-d34c-d9dbc58dd346"
      },
      "execution_count": 7,
      "outputs": [
        {
          "output_type": "stream",
          "name": "stdout",
          "text": [
            "DataFrame has no null values\n"
          ]
        }
      ]
    },
    {
      "cell_type": "code",
      "source": [
        "#using Lambda to lowercase all the strings \n",
        "df = df.apply(lambda x: x.str.lower() if x.dtype == 'object' else x)\n"
      ],
      "metadata": {
        "id": "FXGD5kV7H--j"
      },
      "execution_count": 8,
      "outputs": []
    },
    {
      "cell_type": "code",
      "source": [
        "# Used for loop to print the years in the column to copypaste lol\n",
        "years = []\n",
        "for year in range(1960, 2021):\n",
        "    years.append('{}'.format(year))\n",
        "print(years)"
      ],
      "metadata": {
        "colab": {
          "base_uri": "https://localhost:8080/"
        },
        "id": "-1r_gmULIjKE",
        "outputId": "4ed615d7-6d8d-4f78-a43a-3b74a5595d05"
      },
      "execution_count": 9,
      "outputs": [
        {
          "output_type": "stream",
          "name": "stdout",
          "text": [
            "['1960', '1961', '1962', '1963', '1964', '1965', '1966', '1967', '1968', '1969', '1970', '1971', '1972', '1973', '1974', '1975', '1976', '1977', '1978', '1979', '1980', '1981', '1982', '1983', '1984', '1985', '1986', '1987', '1988', '1989', '1990', '1991', '1992', '1993', '1994', '1995', '1996', '1997', '1998', '1999', '2000', '2001', '2002', '2003', '2004', '2005', '2006', '2007', '2008', '2009', '2010', '2011', '2012', '2013', '2014', '2015', '2016', '2017', '2018', '2019', '2020']\n"
          ]
        }
      ]
    },
    {
      "cell_type": "code",
      "source": [
        "def outliers(df, columns):\n",
        "    for col in columns:\n",
        "        # Calculate the Z-scores for the column\n",
        "        z_scores = np.abs((df[col] - df[col].mean()) / df[col].std())\n",
        "\n",
        "        # Remove rows with Z-score greater than 3\n",
        "        df = df[z_scores < 3]\n",
        "\n",
        "    return df"
      ],
      "metadata": {
        "id": "l0aUv1CBLmA9"
      },
      "execution_count": 10,
      "outputs": []
    },
    {
      "cell_type": "code",
      "source": [
        "columns_to_remove_outliers = ['1960', '1961', '1962', '1963', '1964', '1965', '1966', '1967', '1968', '1969', '1970', '1971', '1972', '1973', '1974', '1975', '1976', '1977', '1978', '1979', '1980', '1981', '1982', '1983', '1984', '1985', '1986', '1987', '1988', '1989', '1990', '1991', '1992', '1993', '1994', '1995', '1996', '1997', '1998', '1999', '2000', '2001', '2002', '2003', '2004', '2005', '2006', '2007', '2008', '2009', '2010', '2011', '2012', '2013', '2014', '2015', '2016', '2017', '2018', '2019', '2020']"
      ],
      "metadata": {
        "id": "VP_lzNu_MKZt"
      },
      "execution_count": 11,
      "outputs": []
    },
    {
      "cell_type": "code",
      "source": [
        "df = outliers(df, columns_to_remove_outliers)"
      ],
      "metadata": {
        "id": "7BHoXqqfPhjG"
      },
      "execution_count": 12,
      "outputs": []
    },
    {
      "cell_type": "code",
      "source": [
        "df.head"
      ],
      "metadata": {
        "colab": {
          "base_uri": "https://localhost:8080/"
        },
        "id": "uurU2ScfPmam",
        "outputId": "183b96e5-7a0b-466a-fb15-30802278cdc8"
      },
      "execution_count": 13,
      "outputs": [
        {
          "output_type": "execute_result",
          "data": {
            "text/plain": [
              "<bound method NDFrame.head of              Country Name Country Code    1960     1961       1962    1963  \\\n",
              "0                   aruba          abw  65.662  66.0740  66.444000  66.787   \n",
              "1             afghanistan          afg  32.446  32.9620  33.471000  33.971   \n",
              "2                  angola          ago  37.524  37.8110  38.113000  38.430   \n",
              "3                 albania          alb  62.283  63.3010  64.190000  64.914   \n",
              "4    united arab emirates          are  51.537  52.5600  53.573000  54.572   \n",
              "..                    ...          ...     ...      ...        ...     ...   \n",
              "200                kosovo          xkx  54.701  55.5215  56.128659  56.231   \n",
              "201           yemen, rep.          yem  29.919  30.1630  30.500000  30.943   \n",
              "202          south africa          zaf  48.406  48.7770  49.142000  49.509   \n",
              "203                zambia          zmb  46.687  47.0840  47.446000  47.772   \n",
              "204              zimbabwe          zwe  53.019  53.4830  53.946000  54.403   \n",
              "\n",
              "       1964       1965       1966    1967  ...    2011       2012       2013  \\\n",
              "0    67.113  67.435000  67.762000  68.095  ...  75.158  75.299000  75.441000   \n",
              "1    34.463  34.948000  35.430000  35.914  ...  61.553  62.054000  62.525000   \n",
              "2    38.760  39.102000  39.454000  39.813  ...  56.330  57.236000  58.054000   \n",
              "3    65.463  65.850000  66.110000  66.304  ...  76.914  77.252000  77.554000   \n",
              "4    55.555  56.523000  57.482000  58.432  ...  76.521  76.711000  76.903000   \n",
              "..      ...        ...        ...     ...  ...     ...        ...        ...   \n",
              "200  57.182  58.105146  58.608585  59.006  ...  70.200  70.497561  70.797561   \n",
              "201  31.501  32.175000  32.960000  33.836  ...  65.768  65.920000  66.016000   \n",
              "202  49.888  50.284000  50.705000  51.148  ...  58.895  60.060000  61.099000   \n",
              "203  48.068  48.351000  48.643000  48.960  ...  57.126  58.502000  59.746000   \n",
              "204  54.849  55.274000  55.671000  56.034  ...  52.896  55.032000  56.897000   \n",
              "\n",
              "          2014       2015       2016       2017       2018       2019  \\\n",
              "0    75.583000  75.725000  75.868000  76.010000  76.152000  76.293000   \n",
              "1    62.966000  63.377000  63.763000  64.130000  64.486000  64.833000   \n",
              "2    58.776000  59.398000  59.925000  60.379000  60.782000  61.147000   \n",
              "3    77.813000  78.025000  78.194000  78.333000  78.458000  78.573000   \n",
              "4    77.095000  77.285000  77.470000  77.647000  77.814000  77.972000   \n",
              "..         ...        ...        ...        ...        ...        ...   \n",
              "200  71.097561  71.346341  71.846341  72.295122  72.695122  73.092683   \n",
              "201  66.066000  66.085000  66.087000  66.086000  66.096000  66.125000   \n",
              "202  61.968000  62.649000  63.153000  63.538000  63.857000  64.131000   \n",
              "203  60.831000  61.737000  62.464000  63.043000  63.510000  63.886000   \n",
              "204  58.410000  59.534000  60.294000  60.812000  61.195000  61.490000   \n",
              "\n",
              "          2020  \n",
              "0    76.434000  \n",
              "1    65.173000  \n",
              "2    61.487000  \n",
              "3    78.686000  \n",
              "4    78.120000  \n",
              "..         ...  \n",
              "200  71.087805  \n",
              "201  66.181000  \n",
              "202  64.379000  \n",
              "203  64.194000  \n",
              "204  61.738000  \n",
              "\n",
              "[201 rows x 63 columns]>"
            ]
          },
          "metadata": {},
          "execution_count": 13
        }
      ]
    }
  ]
}